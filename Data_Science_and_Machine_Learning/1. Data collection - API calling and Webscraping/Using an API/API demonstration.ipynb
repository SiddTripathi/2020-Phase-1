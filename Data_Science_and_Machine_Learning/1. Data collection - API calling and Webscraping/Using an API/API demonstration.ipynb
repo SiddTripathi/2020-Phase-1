{
 "cells": [
  {
   "cell_type": "code",
   "execution_count": 1,
   "metadata": {},
   "outputs": [],
   "source": [
    "import json\n",
    "import sys\n",
    "sys.path.append('/home/nbuser/library/')\n",
    "\n",
    "import pandas as pd\n",
    "import requests\n",
    "import key"
   ]
  },
  {
   "cell_type": "markdown",
   "metadata": {},
   "source": [
    " ### API Call\n",
    " \n",
    " - First step - Get URL from documentation\n",
    " - Second step - look at the required parameters\n",
    " \n",
    " - Third step - Catch when status code does not equal to 200"
   ]
  },
  {
   "cell_type": "code",
   "execution_count": 12,
   "metadata": {},
   "outputs": [],
   "source": [
    "def get_latlng(address):\n",
    "    \"\"\"\n",
    "    Takes an address as a STRING input, returns the latitude and longitude coordinates as STRING outputs.\n",
    "    \"\"\"\n",
    "    \n",
    "    url = 'https://us1.locationiq.com/v1/search.php'\n",
    "\n",
    "    params = {\n",
    "        'key' : key.key,\n",
    "        'q' : address,\n",
    "        'format' : 'json'\n",
    "    }\n",
    "\n",
    "    response = requests.get(url, params=params)\n",
    "    \n",
    "    if response.status_code != 200:\n",
    "        return response.status_code\n",
    "\n",
    "    lat = response.json()[0]['lat']\n",
    "    lng = response.json()[0]['lon']\n",
    "    return lat,lng"
   ]
  },
  {
   "cell_type": "code",
   "execution_count": 15,
   "metadata": {},
   "outputs": [
    {
     "data": {
      "text/plain": [
       "('-36.9110229', '174.753648')"
      ]
     },
     "execution_count": 15,
     "metadata": {},
     "output_type": "execute_result"
    }
   ],
   "source": [
    "get_latlng(\"24 Dornwell Road, Auckland\")"
   ]
  },
  {
   "cell_type": "markdown",
   "metadata": {},
   "source": [
    "### Calling the API for each property in our csv file and appending result to dataframe"
   ]
  },
  {
   "cell_type": "markdown",
   "metadata": {},
   "source": [
    "First we read in our csv file into a dataframe"
   ]
  },
  {
   "cell_type": "code",
   "execution_count": 2,
   "metadata": {},
   "outputs": [],
   "source": [
    "df = pd.read_csv('Properties.csv')"
   ]
  },
  {
   "cell_type": "markdown",
   "metadata": {},
   "source": [
    "Creating a sample here so we can test our code on the sample instead of on our entire dataframe"
   ]
  },
  {
   "cell_type": "code",
   "execution_count": null,
   "metadata": {},
   "outputs": [],
   "source": [
    "sample = df.head()"
   ]
  },
  {
   "cell_type": "markdown",
   "metadata": {},
   "source": [
    "Applying our API call function to each row and appending result as an extra column"
   ]
  },
  {
   "cell_type": "code",
   "execution_count": null,
   "metadata": {},
   "outputs": [],
   "source": [
    "sample[['Latitude' , 'Longitude']] = sample.Address.apply(get_latlng)"
   ]
  },
  {
   "cell_type": "code",
   "execution_count": 120,
   "metadata": {
    "scrolled": true
   },
   "outputs": [
    {
     "data": {
      "text/html": [
       "<div>\n",
       "<style scoped>\n",
       "    .dataframe tbody tr th:only-of-type {\n",
       "        vertical-align: middle;\n",
       "    }\n",
       "\n",
       "    .dataframe tbody tr th {\n",
       "        vertical-align: top;\n",
       "    }\n",
       "\n",
       "    .dataframe thead th {\n",
       "        text-align: right;\n",
       "    }\n",
       "</style>\n",
       "<table border=\"1\" class=\"dataframe\">\n",
       "  <thead>\n",
       "    <tr style=\"text-align: right;\">\n",
       "      <th></th>\n",
       "      <th>Bedrooms</th>\n",
       "      <th>Bathrooms</th>\n",
       "      <th>Address</th>\n",
       "      <th>Land area</th>\n",
       "      <th>CV Price</th>\n",
       "      <th>Latitude</th>\n",
       "      <th>Longitude</th>\n",
       "    </tr>\n",
       "  </thead>\n",
       "  <tbody>\n",
       "    <tr>\n",
       "      <th>0</th>\n",
       "      <td>4</td>\n",
       "      <td>2</td>\n",
       "      <td>44 Godden Crescent, Auckland</td>\n",
       "      <td>420 m²</td>\n",
       "      <td>2150000</td>\n",
       "      <td>-36.8588055</td>\n",
       "      <td>174.8284072</td>\n",
       "    </tr>\n",
       "    <tr>\n",
       "      <th>1</th>\n",
       "      <td>4</td>\n",
       "      <td>3</td>\n",
       "      <td>151 Shore Road, Auckland</td>\n",
       "      <td>784 m²</td>\n",
       "      <td>2300000</td>\n",
       "      <td>-36.8659977</td>\n",
       "      <td>174.8042526</td>\n",
       "    </tr>\n",
       "    <tr>\n",
       "      <th>2</th>\n",
       "      <td>3</td>\n",
       "      <td>1</td>\n",
       "      <td>4 Heretaunga Avenue, Auckland</td>\n",
       "      <td>584 m²</td>\n",
       "      <td>1055000</td>\n",
       "      <td>-36.9190126</td>\n",
       "      <td>174.7944865</td>\n",
       "    </tr>\n",
       "    <tr>\n",
       "      <th>3</th>\n",
       "      <td>4</td>\n",
       "      <td>3</td>\n",
       "      <td>4 Tropicana Drive, Auckland</td>\n",
       "      <td>683 m²</td>\n",
       "      <td>880000</td>\n",
       "      <td>-36.9224219</td>\n",
       "      <td>174.7188805</td>\n",
       "    </tr>\n",
       "    <tr>\n",
       "      <th>4</th>\n",
       "      <td>6</td>\n",
       "      <td>5</td>\n",
       "      <td>50 Valley Road, Auckland</td>\n",
       "      <td>424 m²</td>\n",
       "      <td>1455000</td>\n",
       "      <td>-36.8788073</td>\n",
       "      <td>174.7570509</td>\n",
       "    </tr>\n",
       "  </tbody>\n",
       "</table>\n",
       "</div>"
      ],
      "text/plain": [
       "   Bedrooms  Bathrooms                        Address Land area  CV Price  \\\n",
       "0         4          2   44 Godden Crescent, Auckland    420 m²   2150000   \n",
       "1         4          3       151 Shore Road, Auckland    784 m²   2300000   \n",
       "2         3          1  4 Heretaunga Avenue, Auckland    584 m²   1055000   \n",
       "3         4          3    4 Tropicana Drive, Auckland    683 m²    880000   \n",
       "4         6          5       50 Valley Road, Auckland    424 m²   1455000   \n",
       "\n",
       "      Latitude    Longitude  \n",
       "0  -36.8588055  174.8284072  \n",
       "1  -36.8659977  174.8042526  \n",
       "2  -36.9190126  174.7944865  \n",
       "3  -36.9224219  174.7188805  \n",
       "4  -36.8788073  174.7570509  "
      ]
     },
     "execution_count": 120,
     "metadata": {},
     "output_type": "execute_result"
    }
   ],
   "source": [
    "sample"
   ]
  },
  {
   "cell_type": "markdown",
   "metadata": {},
   "source": [
    "### Using apply function with lambda"
   ]
  },
  {
   "cell_type": "markdown",
   "metadata": {},
   "source": [
    "Creating a sample function that takes in two inputs, and return a single tupule containing the inputs"
   ]
  },
  {
   "cell_type": "code",
   "execution_count": 121,
   "metadata": {},
   "outputs": [],
   "source": [
    "def combine_lat_lng(lat,lng):\n",
    "    return (lat,lng)"
   ]
  },
  {
   "cell_type": "markdown",
   "metadata": {},
   "source": [
    "This is how we apply a function to the dataframe when we want to use the values from 2 columns as input"
   ]
  },
  {
   "cell_type": "code",
   "execution_count": 123,
   "metadata": {},
   "outputs": [
    {
     "name": "stderr",
     "output_type": "stream",
     "text": [
      "/home/nbuser/anaconda3_501/lib/python3.6/site-packages/ipykernel/__main__.py:1: SettingWithCopyWarning: \n",
      "A value is trying to be set on a copy of a slice from a DataFrame.\n",
      "Try using .loc[row_indexer,col_indexer] = value instead\n",
      "\n",
      "See the caveats in the documentation: http://pandas.pydata.org/pandas-docs/stable/indexing.html#indexing-view-versus-copy\n",
      "  if __name__ == '__main__':\n"
     ]
    }
   ],
   "source": [
    "sample['Combined coordinates'] = sample.apply(lambda row: combine_lat_lng(row['Latitude'], row['Longitude']), axis = 1)"
   ]
  },
  {
   "cell_type": "code",
   "execution_count": 124,
   "metadata": {},
   "outputs": [
    {
     "data": {
      "text/html": [
       "<div>\n",
       "<style scoped>\n",
       "    .dataframe tbody tr th:only-of-type {\n",
       "        vertical-align: middle;\n",
       "    }\n",
       "\n",
       "    .dataframe tbody tr th {\n",
       "        vertical-align: top;\n",
       "    }\n",
       "\n",
       "    .dataframe thead th {\n",
       "        text-align: right;\n",
       "    }\n",
       "</style>\n",
       "<table border=\"1\" class=\"dataframe\">\n",
       "  <thead>\n",
       "    <tr style=\"text-align: right;\">\n",
       "      <th></th>\n",
       "      <th>Bedrooms</th>\n",
       "      <th>Bathrooms</th>\n",
       "      <th>Address</th>\n",
       "      <th>Land area</th>\n",
       "      <th>CV Price</th>\n",
       "      <th>Latitude</th>\n",
       "      <th>Longitude</th>\n",
       "      <th>Combined coordinates</th>\n",
       "    </tr>\n",
       "  </thead>\n",
       "  <tbody>\n",
       "    <tr>\n",
       "      <th>0</th>\n",
       "      <td>4</td>\n",
       "      <td>2</td>\n",
       "      <td>44 Godden Crescent, Auckland</td>\n",
       "      <td>420 m²</td>\n",
       "      <td>2150000</td>\n",
       "      <td>-36.8588055</td>\n",
       "      <td>174.8284072</td>\n",
       "      <td>(-36.8588055, 174.8284072)</td>\n",
       "    </tr>\n",
       "    <tr>\n",
       "      <th>1</th>\n",
       "      <td>4</td>\n",
       "      <td>3</td>\n",
       "      <td>151 Shore Road, Auckland</td>\n",
       "      <td>784 m²</td>\n",
       "      <td>2300000</td>\n",
       "      <td>-36.8659977</td>\n",
       "      <td>174.8042526</td>\n",
       "      <td>(-36.8659977, 174.8042526)</td>\n",
       "    </tr>\n",
       "    <tr>\n",
       "      <th>2</th>\n",
       "      <td>3</td>\n",
       "      <td>1</td>\n",
       "      <td>4 Heretaunga Avenue, Auckland</td>\n",
       "      <td>584 m²</td>\n",
       "      <td>1055000</td>\n",
       "      <td>-36.9190126</td>\n",
       "      <td>174.7944865</td>\n",
       "      <td>(-36.9190126, 174.7944865)</td>\n",
       "    </tr>\n",
       "    <tr>\n",
       "      <th>3</th>\n",
       "      <td>4</td>\n",
       "      <td>3</td>\n",
       "      <td>4 Tropicana Drive, Auckland</td>\n",
       "      <td>683 m²</td>\n",
       "      <td>880000</td>\n",
       "      <td>-36.9224219</td>\n",
       "      <td>174.7188805</td>\n",
       "      <td>(-36.9224219, 174.7188805)</td>\n",
       "    </tr>\n",
       "    <tr>\n",
       "      <th>4</th>\n",
       "      <td>6</td>\n",
       "      <td>5</td>\n",
       "      <td>50 Valley Road, Auckland</td>\n",
       "      <td>424 m²</td>\n",
       "      <td>1455000</td>\n",
       "      <td>-36.8788073</td>\n",
       "      <td>174.7570509</td>\n",
       "      <td>(-36.8788073, 174.7570509)</td>\n",
       "    </tr>\n",
       "  </tbody>\n",
       "</table>\n",
       "</div>"
      ],
      "text/plain": [
       "   Bedrooms  Bathrooms                        Address Land area  CV Price  \\\n",
       "0         4          2   44 Godden Crescent, Auckland    420 m²   2150000   \n",
       "1         4          3       151 Shore Road, Auckland    784 m²   2300000   \n",
       "2         3          1  4 Heretaunga Avenue, Auckland    584 m²   1055000   \n",
       "3         4          3    4 Tropicana Drive, Auckland    683 m²    880000   \n",
       "4         6          5       50 Valley Road, Auckland    424 m²   1455000   \n",
       "\n",
       "      Latitude    Longitude        Combined coordinates  \n",
       "0  -36.8588055  174.8284072  (-36.8588055, 174.8284072)  \n",
       "1  -36.8659977  174.8042526  (-36.8659977, 174.8042526)  \n",
       "2  -36.9190126  174.7944865  (-36.9190126, 174.7944865)  \n",
       "3  -36.9224219  174.7188805  (-36.9224219, 174.7188805)  \n",
       "4  -36.8788073  174.7570509  (-36.8788073, 174.7570509)  "
      ]
     },
     "execution_count": 124,
     "metadata": {},
     "output_type": "execute_result"
    }
   ],
   "source": [
    "sample"
   ]
  },
  {
   "cell_type": "markdown",
   "metadata": {},
   "source": [
    "Writing out to csv file"
   ]
  },
  {
   "cell_type": "code",
   "execution_count": null,
   "metadata": {},
   "outputs": [],
   "source": [
    "df.to_csv('Properties.csv', index=False)"
   ]
  }
 ],
 "metadata": {
  "kernelspec": {
   "display_name": "Python 3",
   "language": "python",
   "name": "python3"
  },
  "language_info": {
   "codemirror_mode": {
    "name": "ipython",
    "version": 3
   },
   "file_extension": ".py",
   "mimetype": "text/x-python",
   "name": "python",
   "nbconvert_exporter": "python",
   "pygments_lexer": "ipython3",
   "version": "3.7.1"
  }
 },
 "nbformat": 4,
 "nbformat_minor": 2
}
